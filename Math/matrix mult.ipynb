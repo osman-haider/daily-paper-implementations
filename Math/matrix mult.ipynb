{
 "cells": [
  {
   "cell_type": "markdown",
   "id": "9a20746e-42e8-45ba-9995-bcfc6cbd2318",
   "metadata": {},
   "source": [
    "## Manual Implementation"
   ]
  },
  {
   "cell_type": "code",
   "execution_count": 1,
   "id": "1c9bc15d-a6a5-4606-b7c4-87a3ec9de743",
   "metadata": {},
   "outputs": [
    {
     "name": "stdout",
     "output_type": "stream",
     "text": [
      "Result:\n",
      "[58, 64]\n",
      "[139, 154]\n"
     ]
    }
   ],
   "source": [
    "def matrix_multiply(A, B):\n",
    "    # Check dimensions\n",
    "    rows_A, cols_A = len(A), len(A[0])\n",
    "    rows_B, cols_B = len(B), len(B[0])\n",
    "    if cols_A != rows_B:\n",
    "        raise ValueError(\"Number of columns of A must equal number of rows of B\")\n",
    "    \n",
    "    # Initialize result matrix with zeros\n",
    "    result = [[0 for _ in range(cols_B)] for _ in range(rows_A)]\n",
    "    \n",
    "    # Compute dot product\n",
    "    for i in range(rows_A):\n",
    "        for j in range(cols_B):\n",
    "            for k in range(cols_A):  # or rows_B\n",
    "                result[i][j] += A[i][k] * B[k][j]\n",
    "    return result\n",
    "\n",
    "A = [[1, 2, 3],\n",
    "     [4, 5, 6]]\n",
    "\n",
    "B = [[7, 8],\n",
    "     [9, 10],\n",
    "     [11, 12]]\n",
    "\n",
    "product = matrix_multiply(A, B)\n",
    "print(\"Result:\")\n",
    "for row in product:\n",
    "    print(row)\n"
   ]
  },
  {
   "cell_type": "markdown",
   "id": "baa58fa8-c84a-48ae-8f33-352fc35d6d91",
   "metadata": {},
   "source": [
    "## Matrix Multiplication Using NumPy"
   ]
  },
  {
   "cell_type": "code",
   "execution_count": 2,
   "id": "ecd20254-41f9-4038-808a-6cfb16eb50f3",
   "metadata": {},
   "outputs": [
    {
     "name": "stdout",
     "output_type": "stream",
     "text": [
      "Result:\n",
      " [[ 58  64]\n",
      " [139 154]]\n"
     ]
    }
   ],
   "source": [
    "import numpy as np\n",
    "\n",
    "A = np.array([[1, 2, 3],\n",
    "              [4, 5, 6]])\n",
    "\n",
    "B = np.array([[7, 8],\n",
    "              [9, 10],\n",
    "              [11, 12]])\n",
    "\n",
    "product = np.dot(A, B)\n",
    "print(\"Result:\\n\", product)\n"
   ]
  },
  {
   "cell_type": "code",
   "execution_count": null,
   "id": "c10878d4-0f8b-4862-8da8-75506ce9bf35",
   "metadata": {},
   "outputs": [],
   "source": []
  }
 ],
 "metadata": {
  "kernelspec": {
   "display_name": "Python (jupyter_env)",
   "language": "python",
   "name": "jupyter_env"
  },
  "language_info": {
   "codemirror_mode": {
    "name": "ipython",
    "version": 3
   },
   "file_extension": ".py",
   "mimetype": "text/x-python",
   "name": "python",
   "nbconvert_exporter": "python",
   "pygments_lexer": "ipython3",
   "version": "3.10.10"
  }
 },
 "nbformat": 4,
 "nbformat_minor": 5
}
