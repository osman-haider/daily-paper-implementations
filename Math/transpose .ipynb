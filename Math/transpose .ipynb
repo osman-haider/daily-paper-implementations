{
 "cells": [
  {
   "cell_type": "markdown",
   "id": "a2446aa2-5bbe-433f-99c4-76bbbdcb1300",
   "metadata": {},
   "source": [
    "## Manual Implementation"
   ]
  },
  {
   "cell_type": "code",
   "execution_count": 1,
   "id": "11da0b44-3162-4a2b-9cab-273fa8c0464d",
   "metadata": {},
   "outputs": [
    {
     "name": "stdout",
     "output_type": "stream",
     "text": [
      "Transpose:\n",
      "[1, 4]\n",
      "[2, 5]\n",
      "[3, 6]\n"
     ]
    }
   ],
   "source": [
    "def transpose(matrix):\n",
    "    # Use list comprehension to swap rows and columns\n",
    "    rows = len(matrix)\n",
    "    cols = len(matrix[0])\n",
    "    transposed = [[matrix[j][i] for j in range(rows)] for i in range(cols)]\n",
    "    return transposed\n",
    "\n",
    "A = [\n",
    "    [1, 2, 3],\n",
    "    [4, 5, 6]\n",
    "]\n",
    "\n",
    "result = transpose(A)\n",
    "print(\"Transpose:\")\n",
    "for row in result:\n",
    "    print(row)"
   ]
  },
  {
   "cell_type": "markdown",
   "id": "f342ffa6-3dd4-4df2-be31-826446c06175",
   "metadata": {},
   "source": [
    "## Using NumPy"
   ]
  },
  {
   "cell_type": "code",
   "execution_count": 2,
   "id": "13ad4e15-0774-4b44-9bea-5c48a2605f32",
   "metadata": {},
   "outputs": [
    {
     "name": "stdout",
     "output_type": "stream",
     "text": [
      "Transpose:\n",
      " [[1 4]\n",
      " [2 5]\n",
      " [3 6]]\n"
     ]
    }
   ],
   "source": [
    "import numpy as np\n",
    "\n",
    "A = np.array([[1, 2, 3],\n",
    "              [4, 5, 6]])\n",
    "\n",
    "result = A.T  # or np.transpose(A)\n",
    "print(\"Transpose:\\n\", result)"
   ]
  },
  {
   "cell_type": "code",
   "execution_count": null,
   "id": "426ca3c4-fb41-4e85-bbe0-075636e75aa9",
   "metadata": {},
   "outputs": [],
   "source": []
  }
 ],
 "metadata": {
  "kernelspec": {
   "display_name": "Python (jupyter_env)",
   "language": "python",
   "name": "jupyter_env"
  },
  "language_info": {
   "codemirror_mode": {
    "name": "ipython",
    "version": 3
   },
   "file_extension": ".py",
   "mimetype": "text/x-python",
   "name": "python",
   "nbconvert_exporter": "python",
   "pygments_lexer": "ipython3",
   "version": "3.10.10"
  }
 },
 "nbformat": 4,
 "nbformat_minor": 5
}
