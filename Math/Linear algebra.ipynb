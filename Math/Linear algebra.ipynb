{
 "cells": [
  {
   "cell_type": "markdown",
   "id": "0dc93278-38ae-445c-b80b-d937ea169e3f",
   "metadata": {},
   "source": [
    "## Dot Product Using a Loop"
   ]
  },
  {
   "cell_type": "code",
   "execution_count": 1,
   "id": "4fac8edf-8b6a-4923-aec7-fea788439821",
   "metadata": {},
   "outputs": [
    {
     "name": "stdout",
     "output_type": "stream",
     "text": [
      "Dot product: 32\n"
     ]
    }
   ],
   "source": [
    "def dot_product(vector1, vector2):\n",
    "    if len(vector1) != len(vector2):\n",
    "        raise ValueError(\"Vectors must be of the same length\")\n",
    "    result = 0\n",
    "    for x, y in zip(vector1, vector2):\n",
    "        result += x * y\n",
    "    return result\n",
    "\n",
    "a = [1, 2, 3]\n",
    "b = [4, 5, 6]\n",
    "print(\"Dot product:\", dot_product(a, b))"
   ]
  },
  {
   "cell_type": "markdown",
   "id": "8eb8010a-1977-4f20-8045-decb6b2f7786",
   "metadata": {},
   "source": [
    "## Dot Product Using NumPy"
   ]
  },
  {
   "cell_type": "code",
   "execution_count": 2,
   "id": "f26c8f62-776d-4340-be06-dc26847e30b9",
   "metadata": {},
   "outputs": [
    {
     "name": "stdout",
     "output_type": "stream",
     "text": [
      "Dot product: 32\n"
     ]
    }
   ],
   "source": [
    "import numpy as np\n",
    "\n",
    "a = np.array([1, 2, 3])\n",
    "b = np.array([4, 5, 6])\n",
    "result = np.dot(a, b)\n",
    "print(\"Dot product:\", result)"
   ]
  },
  {
   "cell_type": "code",
   "execution_count": null,
   "id": "82bbd843-aee3-4b6a-8bbd-fbc3daad786f",
   "metadata": {},
   "outputs": [],
   "source": []
  }
 ],
 "metadata": {
  "kernelspec": {
   "display_name": "Python (jupyter_env)",
   "language": "python",
   "name": "jupyter_env"
  },
  "language_info": {
   "codemirror_mode": {
    "name": "ipython",
    "version": 3
   },
   "file_extension": ".py",
   "mimetype": "text/x-python",
   "name": "python",
   "nbconvert_exporter": "python",
   "pygments_lexer": "ipython3",
   "version": "3.10.10"
  }
 },
 "nbformat": 4,
 "nbformat_minor": 5
}
