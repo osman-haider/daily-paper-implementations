{
 "cells": [
  {
   "cell_type": "markdown",
   "id": "1838f5b0-35df-48d6-b6af-4c78c3b17622",
   "metadata": {},
   "source": [
    "## NumPy "
   ]
  },
  {
   "cell_type": "code",
   "execution_count": 1,
   "id": "d672c05a-a73d-4cdb-8535-04116d865f69",
   "metadata": {},
   "outputs": [
    {
     "name": "stdout",
     "output_type": "stream",
     "text": [
      "Eigenvalues: [5. 2.]\n",
      "Eigenvectors:\n",
      "[[ 0.89442719 -0.70710678]\n",
      " [ 0.4472136   0.70710678]]\n"
     ]
    }
   ],
   "source": [
    "import numpy as np\n",
    "\n",
    "A = np.array([[4, 2],\n",
    "              [1, 3]])\n",
    "\n",
    "# Calculate eigenvalues and eigenvectors\n",
    "eigenvalues, eigenvectors = np.linalg.eig(A)\n",
    "\n",
    "print(\"Eigenvalues:\", eigenvalues)\n",
    "print(\"Eigenvectors:\")\n",
    "print(eigenvectors)"
   ]
  },
  {
   "cell_type": "markdown",
   "id": "b0e38c45-3fb0-439c-8cb9-ef46f9cb2d61",
   "metadata": {},
   "source": [
    "## Manual Calculation (for 2x2 matrices only)\n",
    "\n",
    "Calculating eigenvalues and eigenvectors manually (without libraries) is possible for 2x2 or sometimes 3x3 matrices, but for larger or more general matrices, it's best to use libraries like NumPy.\n",
    "\n",
    "For a matrix\n",
    "| a b |\n",
    "| c d |\n",
    "\n",
    "Eigenvalues λ satisfy the equation:\n",
    "det(A - λI) = 0\n",
    "So, (a - λ)*(d - λ) - b*c = 0\n",
    "\n",
    "Here’s code to do this and then find the eigenvectors:"
   ]
  },
  {
   "cell_type": "code",
   "execution_count": 2,
   "id": "dd30789b-7039-423d-ab2c-d03f8fb57d4a",
   "metadata": {},
   "outputs": [
    {
     "name": "stdout",
     "output_type": "stream",
     "text": [
      "Eigenvalues: [5.0, 2.0]\n",
      "Eigenvectors:\n",
      "[1, 0.5]\n",
      "[1, -1.0]\n"
     ]
    }
   ],
   "source": [
    "import math\n",
    "\n",
    "def eigen_2x2(A):\n",
    "    a, b = A[0][0], A[0][1]\n",
    "    c, d = A[1][0], A[1][1]\n",
    "    \n",
    "    # Characteristic equation: λ^2 - (a+d)λ + (ad-bc) = 0\n",
    "    trace = a + d\n",
    "    det = a * d - b * c\n",
    "    discriminant = trace ** 2 - 4 * det\n",
    "    \n",
    "    if discriminant < 0:\n",
    "        raise ValueError(\"Complex eigenvalues (not supported in this simple implementation)\")\n",
    "    \n",
    "    sqrt_disc = math.sqrt(discriminant)\n",
    "    lambda1 = (trace + sqrt_disc) / 2\n",
    "    lambda2 = (trace - sqrt_disc) / 2\n",
    "    eigenvalues = [lambda1, lambda2]\n",
    "    eigenvectors = []\n",
    "    \n",
    "    # Find eigenvectors\n",
    "    for lmbda in eigenvalues:\n",
    "        # Solve (A - λI)x = 0\n",
    "        mat = [[a - lmbda, b], [c, d - lmbda]]\n",
    "        # We can use the first row to get x, y:\n",
    "        if abs(mat[0][1]) > 1e-8:  # b != 0\n",
    "            # (a - lmbda)x + b*y = 0 => y = -((a - lmbda)/b)x\n",
    "            x = 1\n",
    "            y = -((a - lmbda) / b)\n",
    "        elif abs(mat[1][0]) > 1e-8:  # c != 0\n",
    "            # c*x + (d - lmbda)y = 0 => x = -((d - lmbda)/c)y\n",
    "            y = 1\n",
    "            x = -((d - lmbda) / c)\n",
    "        else:\n",
    "            # Diagonal matrix\n",
    "            x, y = 1, 0\n",
    "        eigenvectors.append([x, y])\n",
    "    \n",
    "    return eigenvalues, eigenvectors\n",
    "\n",
    "# Example usage:\n",
    "A = [[4, 2],\n",
    "     [1, 3]]\n",
    "\n",
    "eigenvalues, eigenvectors = eigen_2x2(A)\n",
    "print(\"Eigenvalues:\", eigenvalues)\n",
    "print(\"Eigenvectors:\")\n",
    "for vec in eigenvectors:\n",
    "    print(vec)"
   ]
  },
  {
   "cell_type": "code",
   "execution_count": null,
   "id": "8d458514-0e26-456b-9759-6fccb365373c",
   "metadata": {},
   "outputs": [],
   "source": []
  }
 ],
 "metadata": {
  "kernelspec": {
   "display_name": "Python (jupyter_env)",
   "language": "python",
   "name": "jupyter_env"
  },
  "language_info": {
   "codemirror_mode": {
    "name": "ipython",
    "version": 3
   },
   "file_extension": ".py",
   "mimetype": "text/x-python",
   "name": "python",
   "nbconvert_exporter": "python",
   "pygments_lexer": "ipython3",
   "version": "3.10.10"
  }
 },
 "nbformat": 4,
 "nbformat_minor": 5
}
